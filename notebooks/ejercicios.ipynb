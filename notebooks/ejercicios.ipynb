{
 "cells": [
  {
   "cell_type": "code",
   "execution_count": 1,
   "metadata": {},
   "outputs": [],
   "source": [
    "import sys\n",
    "import os\n",
    "\n",
    "#obtener la ruta absoluta del directorio raiz del proyecto\n",
    "sys.path.append(os.path.abspath(\"../src\"))"
   ]
  },
  {
   "cell_type": "markdown",
   "metadata": {},
   "source": [
    "# Ejercicio 1\n"
   ]
  },
  {
   "cell_type": "code",
   "execution_count": 2,
   "metadata": {},
   "outputs": [
    {
     "name": "stdout",
     "output_type": "stream",
     "text": [
      "Beautiful is better than ugly.\n",
      "Explicit is better than implicit.\n",
      "Simple is better than complex.\n",
      "Complex is better than complicated.\n",
      "Flat is better than nested.\n",
      "Sparse is better than dense.\n",
      "Unless explicitly silenced.\n",
      "Now is better than never.\n",
      "Namespaces are one honking great idea – let's do more of those!\n"
     ]
    }
   ],
   "source": [
    "zen_de_python = \"\"\"\n",
    "The Zen of Python, by Tim Peters\n",
    "\n",
    "Beautiful is better than ugly.\n",
    "Explicit is better than implicit.\n",
    "Simple is better than complex.\n",
    "Complex is better than complicated.\n",
    "Flat is better than nested.\n",
    "Sparse is better than dense.\n",
    "Readability counts.\n",
    "Special cases aren't special enough to break the rules.\n",
    "Although practicality beats purity.\n",
    "Errors should never pass silently.\n",
    "Unless explicitly silenced.\n",
    "In the face of ambiguity, refuse the temptation to guess.\n",
    "There should be one – and preferably only one – obvious way to do it.\n",
    "Although that way may not be obvious at first unless you're Dutch.\n",
    "Now is better than never.\n",
    "Although never is often better than right now.\n",
    "If the implementation is hard to explain, it's a bad idea.\n",
    "If the implementation is easy to explain, it may be a good idea.\n",
    "Namespaces are one honking great idea – let's do more of those!\n",
    "\"\"\"\n",
    "\n",
    "\n",
    "vocales = \"AEIOUaeiou\"\n",
    "lineas_con_vocal = []\n",
    "\n",
    "# Divide el Zen en líneas\n",
    "lineas = zen_de_python.split(\"\\n\")\n",
    "\n",
    "# Itera por cada línea\n",
    "for linea in lineas:\n",
    "    # Divide la línea en palabras\n",
    "    palabras = linea.split()\n",
    "    # Verifica si hay al menos dos palabras y si la segunda comienza con una vocal\n",
    "    if len(palabras) > 1 and palabras[1][0] in vocales:\n",
    "        lineas_con_vocal.append(linea)\n",
    "\n",
    "# Imrrime la lista \n",
    "for linea in lineas_con_vocal:\n",
    "    print(linea)\n"
   ]
  },
  {
   "cell_type": "markdown",
   "metadata": {},
   "source": [
    "# Ejercicio 2"
   ]
  },
  {
   "cell_type": "code",
   "execution_count": null,
   "metadata": {},
   "outputs": [],
   "source": [
    "\n",
    "titles = [\n",
    "    \"Speedrun de Super Mario en tiempo récord\",\n",
    "    \"Charla sobre desarrollo de videojuegos\",\n",
    "    \"Jugando al nuevo FPS del momento con amigos\",\n",
    "    \"Música en vivo: improvisaciones al piano\"\n",
    "]\n",
    "\n",
    "# Llamar a la función y mostrar el título con más palabras\n",
    "titulo = encontrar_titulo_con_mas_palabras(titles)\n",
    "print(\"El título con más palabras es:\", titulo)"
   ]
  },
  {
   "cell_type": "markdown",
   "metadata": {},
   "source": [
    "# Ejercicio 3\n"
   ]
  },
  {
   "cell_type": "code",
   "execution_count": null,
   "metadata": {},
   "outputs": [],
   "source": [
    "# Código de conducta\n",
    "rules = \"\"\"Respeta a los demás. No se permiten insultos ni lenguaje\n",
    "ofensivo.\n",
    "Evita el spam. No publiques enlaces sospechosos o repetitivos.\n",
    "No compartas información personal.\n",
    "Usa los canales adecuados para cada tema.\n",
    "Sigue las instrucciones de los moderadores.\"\"\"\n",
    "\n",
    "# Solicitar una palabra clave al usuario\n",
    "palabra_clave = input(\"Ingresa una palabra clave para buscar en las reglas: \")\n",
    "\n",
    "# Convertir la palabra clave a minúsculas\n",
    "palabra_clave = palabra_clave.lower()\n",
    "\n",
    "# Dividir las reglas por saltos de línea\n",
    "lista_de_reglas = rules.split(\"\\n\")\n",
    "\n",
    "# Buscar las reglas que contienen la palabra clave\n",
    "for regla in lista_de_reglas:\n",
    "    if palabra_clave in regla.lower():\n",
    "        print(regla)\n"
   ]
  },
  {
   "cell_type": "markdown",
   "metadata": {},
   "source": [
    "# Ejercicio 4"
   ]
  },
  {
   "cell_type": "code",
   "execution_count": null,
   "metadata": {},
   "outputs": [],
   "source": [
    "# Solicita al usuario que ingrese el nombre de usuario\n",
    "usuario = input(\"Ingrese un nombre de usuario: \")\n",
    "\n",
    "# Verifica si el nombre de usuario es válido\n",
    "if validar_usuario(usuario):\n",
    "    print(\"El nombre de usuario es válido.\")\n",
    "else:\n",
    "    print(\"El nombre de usuario no cumple con los requisitos.\")\n"
   ]
  },
  {
   "cell_type": "markdown",
   "metadata": {},
   "source": [
    "# Ejercicio 5"
   ]
  },
  {
   "cell_type": "code",
   "execution_count": null,
   "metadata": {},
   "outputs": [],
   "source": [
    "# Solicita al usuario que ingrese el tiempo de reacción en milisegundos\n",
    "tiempo_ms = int(input(\"Ingrese su tiempo de reacción en ms: \"))\n",
    "\n",
    "#Imprime la categoria del usuario\n",
    "print(\"Categoría: \" + clasificar_velocidad(tiempo_ms))"
   ]
  },
  {
   "cell_type": "markdown",
   "metadata": {},
   "source": [
    "# Ejercicio 6"
   ]
  },
  {
   "cell_type": "code",
   "execution_count": null,
   "metadata": {},
   "outputs": [],
   "source": [
    "descriptions = [\n",
    "    \"Streaming de música en vivo con covers y composiciones\",\n",
    "    \"Charla interactiva con la audiencia sobre series y películas\",\n",
    "    \"Jugamos a juegos retro y charlamos sobre su historia\",\n",
    "    \"Exploramos la mejor música de los 80s y 90s\",\n",
    "    \"Programa de entretenimiento con noticias y curiosidades del mundo gamer\",\n",
    "    \"Sesión de charla con invitados especiales del mundo del streaming\",\n",
    "    \"Música en directo con improvisaciones y peticiones del chat\",\n",
    "    \"Un espacio para charlar relajada sobre tecnología y cultura digital\",\n",
    "    \"Exploramos el impacto de la música en los videojuegos clásicos\"\n",
    "]\n",
    "\n",
    "\n",
    "resultado = contar_menciones(descriptions)\n",
    "\n",
    "\n",
    "for palabra, cantidad in resultado.items():\n",
    "    print(f\"Menciones de '{palabra}': {cantidad}\")\n"
   ]
  },
  {
   "cell_type": "markdown",
   "metadata": {},
   "source": [
    "# Ejercicio 7"
   ]
  },
  {
   "cell_type": "code",
   "execution_count": null,
   "metadata": {},
   "outputs": [],
   "source": [
    "# Solicitar el nombre del usuario\n",
    "usuario = input(\"Ingresa nombre de usuario (máximo 15 caracteres): \")\n",
    "\n",
    "# Generar y mostrar el código de descuento\n",
    "codigo = generar_codigo_descuento(usuario)\n",
    "print(\"Código de descuento:\", codigo)\n"
   ]
  },
  {
   "cell_type": "markdown",
   "metadata": {},
   "source": [
    "# Ejercicio 8"
   ]
  },
  {
   "cell_type": "code",
   "execution_count": null,
   "metadata": {},
   "outputs": [],
   "source": [
    "# Solicita las palabras al usuario\n",
    "palabra1 = input(\"Ingrese la primera palabra: \")\n",
    "palabra2 = input(\"Ingrese la segunda palabra: \")\n",
    "\n",
    "# Verifica si son anagramas\n",
    "if son_anagramas(palabra1, palabra2):\n",
    "    print(\"Son anagramas.\")\n",
    "else:\n",
    "    print(\"No son anagramas.\")\n"
   ]
  },
  {
   "cell_type": "markdown",
   "metadata": {},
   "source": [
    "# Ejercicio 9"
   ]
  },
  {
   "cell_type": "code",
   "execution_count": null,
   "metadata": {},
   "outputs": [],
   "source": [
    "\n",
    "clients = [\n",
    "    \" Ana López \", \"Pedro Gómez\", \"maria martínez\", \"Pedro Gómez \", \"\",\n",
    "    \" Luis Rodríguez \", None, \"ana lópez\", \"JUAN PÉREZ\", \"MARTA SUÁREZ\",\n",
    "    \"luis rodríguez\", \"maría martínez \", \" claudia torres\", \"CLAUDIA TORRES\",\n",
    "    \" \", \"pedro gómez\", \"Juan Pérez\", None, \"Ricardo Fernández\", \"LAURA RAMOS\",\n",
    "    \"carlos mendes\", \"RICARDO FERNÁNDEZ \", \" Laura ramos\", \"CARLOS MENDES\",\n",
    "    \"alejandro gonzález\", \" ALEJANDRO GONZÁLEZ \", \"Patricia Vega\",\n",
    "    \"patricia VEGA\", \"Andrés Ocampo\", \" andrés ocampo\", \"Monica Herrera\",\n",
    "    \"MONICA HERRERA \", \"gabriela ruíz\", \"Gabriela Ruíz\", \"sandra morales\",\n",
    "    \"SANDRA MORALES\", \"miguel ángel\", \"Miguel Ángel \", \" Damián Castillo\",\n",
    "    \"Damián Castillo \", None, \"\", \" \"\n",
    "]\n",
    "\n",
    "clientes_limpios = limpiar_datos(clients)\n",
    "\n",
    "print(\"Lista limpia de clientes al realizar todas las operaciones:\")\n",
    "print(clientes_limpios)"
   ]
  },
  {
   "cell_type": "markdown",
   "metadata": {},
   "source": [
    "# Ejercicio 10"
   ]
  },
  {
   "cell_type": "code",
   "execution_count": null,
   "metadata": {},
   "outputs": [],
   "source": [
    "rounds = [\n",
    "    {\n",
    "        'Shadow': {'kills': 2, 'assists': 1, 'deaths': True},\n",
    "        'Blaze': {'kills': 1, 'assists': 0, 'deaths': False},\n",
    "        'Viper': {'kills': 1, 'assists': 2, 'deaths': True},\n",
    "        'Frost': {'kills': 0, 'assists': 1, 'deaths': False},\n",
    "        'Reaper': {'kills': 1, 'assists': 1, 'deaths': False}\n",
    "    },\n",
    "    {\n",
    "        'Shadow': {'kills': 0, 'assists': 2, 'deaths': False},\n",
    "        'Blaze': {'kills': 2, 'assists': 0, 'deaths': True},\n",
    "        'Viper': {'kills': 1, 'assists': 1, 'deaths': False},\n",
    "        'Frost': {'kills': 2, 'assists': 1, 'deaths': True},\n",
    "        'Reaper': {'kills': 0, 'assists': 1, 'deaths': False}\n",
    "    },\n",
    "    {\n",
    "        'Shadow': {'kills': 1, 'assists': 0, 'deaths': False},\n",
    "        'Blaze': {'kills': 2, 'assists': 2, 'deaths': True},\n",
    "        'Viper': {'kills': 1, 'assists': 1, 'deaths': True},\n",
    "        'Frost': {'kills': 0, 'assists': 1, 'deaths': False},\n",
    "        'Reaper': {'kills': 1, 'assists': 1, 'deaths': False}\n",
    "    },\n",
    "    {\n",
    "        'Shadow': {'kills': 2, 'assists': 1, 'deaths': False},\n",
    "        'Blaze': {'kills': 1, 'assists': 0, 'deaths': True},\n",
    "        'Viper': {'kills': 0, 'assists': 2, 'deaths': False},\n",
    "        'Frost': {'kills': 1, 'assists': 1, 'deaths': True},\n",
    "        'Reaper': {'kills': 1, 'assists': 1, 'deaths': False}\n",
    "    },\n",
    "    {\n",
    "        'Shadow': {'kills': 1, 'assists': 2, 'deaths': True},\n",
    "        'Blaze': {'kills': 0, 'assists': 1, 'deaths': False},\n",
    "        'Viper': {'kills': 2, 'assists': 0, 'deaths': True},\n",
    "        'Frost': {'kills': 1, 'assists': 1, 'deaths': False},\n",
    "        'Reaper': {'kills': 1, 'assists': 1, 'deaths': True}\n",
    "    }\n",
    "]\n",
    "\n",
    "# Inicializamos un diccionario para almacenar las estadísticas de los jugadores\n",
    "estadisticas_jugadores = { \n",
    "    'Shadow': {'kills': 0, 'asistencias': 0, 'muertes': 0, 'mvp': 0, 'puntos': 0},\n",
    "    'Blaze': {'kills': 0, 'asistencias': 0, 'muertes': 0, 'mvp': 0, 'puntos': 0},\n",
    "    'Viper': {'kills': 0, 'asistencias': 0, 'muertes': 0, 'mvp': 0, 'puntos': 0},\n",
    "    'Frost': {'kills': 0, 'asistencias': 0, 'muertes': 0, 'mvp': 0, 'puntos': 0},\n",
    "    'Reaper': {'kills': 0, 'asistencias': 0, 'muertes': 0, 'mvp': 0, 'puntos': 0}\n",
    "}\n",
    "\n",
    "# Simular cada ronda (asumimos que `rounds` es una lista de diccionarios con datos de rondas)\n",
    "for i, datos_ronda in enumerate(rounds, 1):\n",
    "    if i != 5:\n",
    "        print(f\"Ranking ronda {i}:\")\n",
    "    else:\n",
    "        print(f\"Ranking ronda {i} y ranking final:\")\n",
    "    \n",
    "    puntajes_ronda = calcular_puntajes_ronda(datos_ronda)  # Calcular el puntaje de la ronda\n",
    "    mvp = determinar_mvp(puntajes_ronda)  # Determinar el MVP de la ronda\n",
    "    estadisticas_jugadores[mvp]['mvp'] += 1  # Sumar 1 al MVP de esa ronda\n",
    "    imprimir_ranking()  # Imprimir el ranking\n",
    "\n"
   ]
  }
 ],
 "metadata": {
  "kernelspec": {
   "display_name": "Python 3",
   "language": "python",
   "name": "python3"
  },
  "language_info": {
   "codemirror_mode": {
    "name": "ipython",
    "version": 3
   },
   "file_extension": ".py",
   "mimetype": "text/x-python",
   "name": "python",
   "nbconvert_exporter": "python",
   "pygments_lexer": "ipython3",
   "version": "3.12.9"
  }
 },
 "nbformat": 4,
 "nbformat_minor": 2
}
